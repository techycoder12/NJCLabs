{
 "cells": [
  {
   "cell_type": "code",
   "execution_count": 1,
   "id": "02140a7a",
   "metadata": {},
   "outputs": [],
   "source": [
    "import mysql.connector"
   ]
  },
  {
   "cell_type": "code",
   "execution_count": 2,
   "id": "168ddb54",
   "metadata": {},
   "outputs": [],
   "source": [
    "mydb = mysql.connector.connect(\n",
    "  host=\"localhost\",\n",
    "  user=\"root\",\n",
    "  password=\"dineshpc\",\n",
    "  database=\"NJCcode\"\n",
    ")"
   ]
  },
  {
   "cell_type": "code",
   "execution_count": 3,
   "id": "0639a164",
   "metadata": {},
   "outputs": [],
   "source": [
    "stmnt = mydb.cursor()"
   ]
  },
  {
   "cell_type": "markdown",
   "id": "be87793b",
   "metadata": {},
   "source": [
    "# let check the existing tables"
   ]
  },
  {
   "cell_type": "code",
   "execution_count": 7,
   "id": "14eab06d",
   "metadata": {},
   "outputs": [],
   "source": [
    "stmnt.execute(\"create table Movies (name VARCHAR(255),director VARCHAR(255),actor VARCHAR(255),actress VARCHAR(255),year INT)\")"
   ]
  },
  {
   "cell_type": "markdown",
   "id": "9939a7ab",
   "metadata": {},
   "source": [
    "# Movies table created Successfully"
   ]
  },
  {
   "cell_type": "markdown",
   "id": "ea6aff47",
   "metadata": {},
   "source": [
    "# Lets insert rows in the table"
   ]
  },
  {
   "cell_type": "code",
   "execution_count": 8,
   "id": "f35fab5b",
   "metadata": {},
   "outputs": [],
   "source": [
    "qry=\"insert into Movies(name,director,actor,actress,year) values(%s,%s,%s,%s,%s)\""
   ]
  },
  {
   "cell_type": "code",
   "execution_count": 9,
   "id": "7a69e927",
   "metadata": {},
   "outputs": [],
   "source": [
    "val=[(\"Soorarai Potru\",\"Sudha Kongara\",\"Suriya\",\"Aparna balamurali\",2020),\n",
    "(\"A Quiet Place\",\"John Krasinski\",\"John Krasinski\",\"Emily Blunt\",2018),\n",
    "(\"Awe\",\"Prashanth Varma\",\"Srinivas Avasarala\",\"Kajal\",2018),\n",
    "(\"Asuran\",\"Vetrimaaran\",\"Dhanush\",\"Manju Warrier\",2019),\n",
    "(\"Petta\",\"Karthik Subbaraj\",\"Rajinikanth\",\"Simran\",2019),\n",
    "(\"Vikram Vedha\",\"\tPushkar–Gayathri\",\"\tMadhavan\",\"Shraddha Srinath\",2017),\n",
    "(\"Kuttram 23\",\"Arivazhagan\",\"Arun Vijay\",\" Mahima Nambiar\",2017)]"
   ]
  },
  {
   "cell_type": "code",
   "execution_count": 10,
   "id": "ba9dd766",
   "metadata": {},
   "outputs": [],
   "source": [
    "stmnt.executemany(qry,val)"
   ]
  },
  {
   "cell_type": "markdown",
   "id": "08e7fce5",
   "metadata": {},
   "source": [
    "# Retrieving all rows in the table"
   ]
  },
  {
   "cell_type": "code",
   "execution_count": 19,
   "id": "571ebe9c",
   "metadata": {},
   "outputs": [],
   "source": [
    "stmnt.execute(\"select * from Movies\")"
   ]
  },
  {
   "cell_type": "code",
   "execution_count": 20,
   "id": "4f1a9318",
   "metadata": {},
   "outputs": [],
   "source": [
    "res = stmnt.fetchall()"
   ]
  },
  {
   "cell_type": "code",
   "execution_count": 21,
   "id": "1ac7e673",
   "metadata": {},
   "outputs": [
    {
     "name": "stdout",
     "output_type": "stream",
     "text": [
      "('Soorarai Potru', 'Sudha Kongara', 'Suriya', 'Aparna balamurali', 2020)\n",
      "\n",
      "\n",
      "('A Quiet Place', 'John Krasinski', 'John Krasinski', 'Emily Blunt', 2018)\n",
      "\n",
      "\n",
      "('Awe', 'Prashanth Varma', 'Srinivas Avasarala', 'Kajal', 2018)\n",
      "\n",
      "\n",
      "('Asuran', 'Vetrimaaran', 'Dhanush', 'Manju Warrier', 2019)\n",
      "\n",
      "\n",
      "('Petta', 'Karthik Subbaraj', 'Rajinikanth', 'Simran', 2019)\n",
      "\n",
      "\n",
      "('Vikram Vedha', '\\tPushkar–Gayathri', '\\tMadhavan', 'Shraddha Srinath', 2017)\n",
      "\n",
      "\n",
      "('Kuttram 23', 'Arivazhagan', 'Arun Vijay', ' Mahima Nambiar', 2017)\n",
      "\n",
      "\n"
     ]
    }
   ],
   "source": [
    "for i in res:\n",
    "    print(i)\n",
    "    print(\"\\n\")"
   ]
  },
  {
   "cell_type": "markdown",
   "id": "32f40c41",
   "metadata": {},
   "source": [
    "# Now lets try to select rows using codintions"
   ]
  },
  {
   "cell_type": "code",
   "execution_count": 22,
   "id": "9d22cb34",
   "metadata": {},
   "outputs": [],
   "source": [
    "qry = \"SELECT * FROM Movies WHERE year =2018\""
   ]
  },
  {
   "cell_type": "code",
   "execution_count": 23,
   "id": "6e6ab6fb",
   "metadata": {},
   "outputs": [],
   "source": [
    "stmnt.execute(qry)"
   ]
  },
  {
   "cell_type": "code",
   "execution_count": 24,
   "id": "39261a55",
   "metadata": {},
   "outputs": [],
   "source": [
    "res=stmnt.fetchall()"
   ]
  },
  {
   "cell_type": "code",
   "execution_count": 25,
   "id": "0248d360",
   "metadata": {},
   "outputs": [
    {
     "name": "stdout",
     "output_type": "stream",
     "text": [
      "('A Quiet Place', 'John Krasinski', 'John Krasinski', 'Emily Blunt', 2018)\n",
      "\n",
      "\n",
      "('Awe', 'Prashanth Varma', 'Srinivas Avasarala', 'Kajal', 2018)\n",
      "\n",
      "\n"
     ]
    }
   ],
   "source": [
    "for i in res:\n",
    "    print(i)\n",
    "    print(\"\\n\")"
   ]
  },
  {
   "cell_type": "markdown",
   "id": "399556d5",
   "metadata": {},
   "source": [
    "# Retrieving only rows with actors having \"y\" in the name"
   ]
  },
  {
   "cell_type": "code",
   "execution_count": 34,
   "id": "8d8bab9c",
   "metadata": {},
   "outputs": [],
   "source": [
    "qry=\"SELECT * FROM Movies WHERE actor LIKE '%y%'\""
   ]
  },
  {
   "cell_type": "code",
   "execution_count": 35,
   "id": "a3232f6a",
   "metadata": {},
   "outputs": [],
   "source": [
    "stmnt.execute(qry)"
   ]
  },
  {
   "cell_type": "code",
   "execution_count": 36,
   "id": "3a37bbe1",
   "metadata": {},
   "outputs": [],
   "source": [
    "res=stmnt.fetchall()"
   ]
  },
  {
   "cell_type": "code",
   "execution_count": 37,
   "id": "46093473",
   "metadata": {},
   "outputs": [
    {
     "name": "stdout",
     "output_type": "stream",
     "text": [
      "('Soorarai Potru', 'Sudha Kongara', 'Suriya', 'Aparna balamurali', 2020)\n",
      "\n",
      "\n",
      "('Kuttram 23', 'Arivazhagan', 'Arun Vijay', ' Mahima Nambiar', 2017)\n",
      "\n",
      "\n"
     ]
    }
   ],
   "source": [
    "for i in res:\n",
    "    print(i)\n",
    "    print(\"\\n\")"
   ]
  },
  {
   "cell_type": "markdown",
   "id": "29c2f4a5",
   "metadata": {},
   "source": [
    "# Retrieving rows in descending and ascending order of years"
   ]
  },
  {
   "cell_type": "code",
   "execution_count": 39,
   "id": "7793d16c",
   "metadata": {},
   "outputs": [],
   "source": [
    "qry=\"SELECT * FROM Movies ORDER BY year DESC\""
   ]
  },
  {
   "cell_type": "code",
   "execution_count": 40,
   "id": "3a209199",
   "metadata": {},
   "outputs": [],
   "source": [
    "stmnt.execute(qry)"
   ]
  },
  {
   "cell_type": "code",
   "execution_count": 41,
   "id": "f6d1719f",
   "metadata": {},
   "outputs": [],
   "source": [
    "res=stmnt.fetchall()"
   ]
  },
  {
   "cell_type": "code",
   "execution_count": 42,
   "id": "0e5c6c13",
   "metadata": {},
   "outputs": [
    {
     "name": "stdout",
     "output_type": "stream",
     "text": [
      "('Soorarai Potru', 'Sudha Kongara', 'Suriya', 'Aparna balamurali', 2020)\n",
      "\n",
      "\n",
      "('Asuran', 'Vetrimaaran', 'Dhanush', 'Manju Warrier', 2019)\n",
      "\n",
      "\n",
      "('Petta', 'Karthik Subbaraj', 'Rajinikanth', 'Simran', 2019)\n",
      "\n",
      "\n",
      "('A Quiet Place', 'John Krasinski', 'John Krasinski', 'Emily Blunt', 2018)\n",
      "\n",
      "\n",
      "('Awe', 'Prashanth Varma', 'Srinivas Avasarala', 'Kajal', 2018)\n",
      "\n",
      "\n",
      "('Vikram Vedha', '\\tPushkar–Gayathri', '\\tMadhavan', 'Shraddha Srinath', 2017)\n",
      "\n",
      "\n",
      "('Kuttram 23', 'Arivazhagan', 'Arun Vijay', ' Mahima Nambiar', 2017)\n",
      "\n",
      "\n"
     ]
    }
   ],
   "source": [
    "for i in res:\n",
    "    print(i)\n",
    "    print(\"\\n\")"
   ]
  },
  {
   "cell_type": "code",
   "execution_count": 43,
   "id": "dce8d043",
   "metadata": {},
   "outputs": [],
   "source": [
    "qry=\"SELECT * FROM Movies ORDER BY year ASC\""
   ]
  },
  {
   "cell_type": "code",
   "execution_count": 44,
   "id": "2ed47aac",
   "metadata": {},
   "outputs": [],
   "source": [
    "stmnt.execute(qry)"
   ]
  },
  {
   "cell_type": "code",
   "execution_count": 45,
   "id": "b1537cdd",
   "metadata": {},
   "outputs": [],
   "source": [
    "res=stmnt.fetchall()"
   ]
  },
  {
   "cell_type": "code",
   "execution_count": 46,
   "id": "17767ae6",
   "metadata": {},
   "outputs": [
    {
     "name": "stdout",
     "output_type": "stream",
     "text": [
      "('Vikram Vedha', '\\tPushkar–Gayathri', '\\tMadhavan', 'Shraddha Srinath', 2017)\n",
      "\n",
      "\n",
      "('Kuttram 23', 'Arivazhagan', 'Arun Vijay', ' Mahima Nambiar', 2017)\n",
      "\n",
      "\n",
      "('A Quiet Place', 'John Krasinski', 'John Krasinski', 'Emily Blunt', 2018)\n",
      "\n",
      "\n",
      "('Awe', 'Prashanth Varma', 'Srinivas Avasarala', 'Kajal', 2018)\n",
      "\n",
      "\n",
      "('Asuran', 'Vetrimaaran', 'Dhanush', 'Manju Warrier', 2019)\n",
      "\n",
      "\n",
      "('Petta', 'Karthik Subbaraj', 'Rajinikanth', 'Simran', 2019)\n",
      "\n",
      "\n",
      "('Soorarai Potru', 'Sudha Kongara', 'Suriya', 'Aparna balamurali', 2020)\n",
      "\n",
      "\n"
     ]
    }
   ],
   "source": [
    "for i in res:\n",
    "    print(i)\n",
    "    print(\"\\n\")"
   ]
  },
  {
   "cell_type": "code",
   "execution_count": null,
   "id": "42c66545",
   "metadata": {},
   "outputs": [],
   "source": []
  }
 ],
 "metadata": {
  "kernelspec": {
   "display_name": "Python 3",
   "language": "python",
   "name": "python3"
  },
  "language_info": {
   "codemirror_mode": {
    "name": "ipython",
    "version": 3
   },
   "file_extension": ".py",
   "mimetype": "text/x-python",
   "name": "python",
   "nbconvert_exporter": "python",
   "pygments_lexer": "ipython3",
   "version": "3.8.8"
  }
 },
 "nbformat": 4,
 "nbformat_minor": 5
}
