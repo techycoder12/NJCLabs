{
 "cells": [
  {
   "cell_type": "code",
   "execution_count": 1,
   "id": "39ad6c3a",
   "metadata": {},
   "outputs": [],
   "source": [
    "import mysql.connector"
   ]
  },
  {
   "cell_type": "code",
   "execution_count": 2,
   "id": "f793c3d7",
   "metadata": {},
   "outputs": [],
   "source": [
    "mydb = mysql.connector.connect(\n",
    "  host=\"localhost\",\n",
    "  user=\"root\",\n",
    "  password=\"dineshpc\"\n",
    ")\n",
    "\n"
   ]
  },
  {
   "cell_type": "code",
   "execution_count": 8,
   "id": "c2da1432",
   "metadata": {},
   "outputs": [],
   "source": [
    "stmnt = mydb.cursor()"
   ]
  },
  {
   "cell_type": "markdown",
   "id": "d13aa086",
   "metadata": {},
   "source": [
    "# checking existing databases"
   ]
  },
  {
   "cell_type": "code",
   "execution_count": 10,
   "id": "f8b447d0",
   "metadata": {},
   "outputs": [],
   "source": [
    "stmnt.execute(\"show databases\")"
   ]
  },
  {
   "cell_type": "code",
   "execution_count": 11,
   "id": "e781706f",
   "metadata": {},
   "outputs": [
    {
     "name": "stdout",
     "output_type": "stream",
     "text": [
      "('abcd',)\n",
      "('abcdwf',)\n",
      "('checking',)\n",
      "('checkx',)\n",
      "('information_schema',)\n",
      "('movie',)\n",
      "('mydatabase',)\n",
      "('mysql',)\n",
      "('njc',)\n",
      "('njclabs',)\n",
      "('performance_schema',)\n",
      "('sakila',)\n",
      "('sys',)\n",
      "('world',)\n"
     ]
    }
   ],
   "source": [
    "for i in stmnt:\n",
    "    print(i)"
   ]
  },
  {
   "cell_type": "markdown",
   "id": "c1df2864",
   "metadata": {},
   "source": [
    "# creating a database"
   ]
  },
  {
   "cell_type": "code",
   "execution_count": 12,
   "id": "7e9bf55f",
   "metadata": {},
   "outputs": [],
   "source": [
    "stmnt.execute(\"create database NJCcode\")"
   ]
  },
  {
   "cell_type": "markdown",
   "id": "45aa1cce",
   "metadata": {},
   "source": [
    "# NJCcode database created successfully\n"
   ]
  }
 ],
 "metadata": {
  "kernelspec": {
   "display_name": "Python 3",
   "language": "python",
   "name": "python3"
  },
  "language_info": {
   "codemirror_mode": {
    "name": "ipython",
    "version": 3
   },
   "file_extension": ".py",
   "mimetype": "text/x-python",
   "name": "python",
   "nbconvert_exporter": "python",
   "pygments_lexer": "ipython3",
   "version": "3.8.8"
  }
 },
 "nbformat": 4,
 "nbformat_minor": 5
}
